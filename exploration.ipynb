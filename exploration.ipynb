{
 "cells": [
  {
   "cell_type": "code",
   "execution_count": 7,
   "id": "cb57f8e5-7b46-4efe-baa3-4d33b86b2bf3",
   "metadata": {},
   "outputs": [],
   "source": [
    "import requests as r"
   ]
  },
  {
   "cell_type": "code",
   "execution_count": 8,
   "id": "55ddc499-f389-4cb9-b89d-1eb93a5c84c9",
   "metadata": {},
   "outputs": [],
   "source": [
    "import os"
   ]
  },
  {
   "cell_type": "code",
   "execution_count": 9,
   "id": "0197b2c5-4a92-4f68-ae20-55492bd9a752",
   "metadata": {},
   "outputs": [
    {
     "name": "stdout",
     "output_type": "stream",
     "text": [
      "None\n"
     ]
    }
   ],
   "source": [
    "print(os.getenv('SPOTIFY_ID'))"
   ]
  },
  {
   "cell_type": "code",
   "execution_count": null,
   "id": "a93553ea-df69-4b9d-a7af-8844ed86e2fd",
   "metadata": {},
   "outputs": [],
   "source": [
    "url = \"https://accounts.spotify.com/api/token\"\n",
    "data = {\n",
    "    'grant_type': 'client_credentials',\n",
    "    'client_id': 'your-client-id',\n",
    "    'client_secret': 'your-client-secret',\n",
    "}\n",
    "r.post(url, )"
   ]
  }
 ],
 "metadata": {
  "kernelspec": {
   "display_name": "Python 3 (ipykernel)",
   "language": "python",
   "name": "python3"
  },
  "language_info": {
   "codemirror_mode": {
    "name": "ipython",
    "version": 3
   },
   "file_extension": ".py",
   "mimetype": "text/x-python",
   "name": "python",
   "nbconvert_exporter": "python",
   "pygments_lexer": "ipython3",
   "version": "3.9.7"
  }
 },
 "nbformat": 4,
 "nbformat_minor": 5
}
