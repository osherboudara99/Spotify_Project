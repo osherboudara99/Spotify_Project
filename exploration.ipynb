{
 "cells": [
  {
   "cell_type": "code",
   "execution_count": 8,
   "id": "cb57f8e5-7b46-4efe-baa3-4d33b86b2bf3",
   "metadata": {},
   "outputs": [],
   "source": [
    "import requests as r\n",
    "import os"
   ]
  },
  {
   "cell_type": "code",
   "execution_count": 9,
   "id": "55ddc499-f389-4cb9-b89d-1eb93a5c84c9",
   "metadata": {},
   "outputs": [
    {
     "data": {
      "text/plain": [
       "True"
      ]
     },
     "execution_count": 9,
     "metadata": {},
     "output_type": "execute_result"
    }
   ],
   "source": [
    "from dotenv import load_dotenv\n",
    "\n",
    "load_dotenv(dotenv_path='/home/rebyidd/OneDrive/Environment_Variables/spotify.env')  "
   ]
  },
  {
   "cell_type": "code",
   "execution_count": 10,
   "id": "fc8e319b-1091-4a4d-b6da-8c1f4f1779b2",
   "metadata": {},
   "outputs": [],
   "source": [
    "spotify_id = os.environ['client_id']\n",
    "spotify_secret = os.environ['client_secret']"
   ]
  },
  {
   "cell_type": "code",
   "execution_count": 13,
   "id": "a93553ea-df69-4b9d-a7af-8844ed86e2fd",
   "metadata": {},
   "outputs": [],
   "source": [
    "url = \"https://accounts.spotify.com/api/token\"\n",
    "data = {\n",
    "    'grant_type': 'client_credentials',\n",
    "    'client_id': spotify_id,\n",
    "    'client_secret': spotify_secret,\n",
    "}\n",
    "token = r.post(url, data=data)"
   ]
  },
  {
   "cell_type": "code",
   "execution_count": 16,
   "id": "98acf249-6206-480d-a54c-0b84cea79df0",
   "metadata": {},
   "outputs": [
    {
     "name": "stdout",
     "output_type": "stream",
     "text": [
      "\n"
     ]
    }
   ],
   "source": [
    "token.json()\n",
    "\n",
    "print()"
   ]
  },
  {
   "cell_type": "code",
   "execution_count": null,
   "id": "0c33571f-c1b6-49de-a17d-c8f4ff2ff0ab",
   "metadata": {},
   "outputs": [],
   "source": []
  }
 ],
 "metadata": {
  "kernelspec": {
   "display_name": "Python 3 (ipykernel)",
   "language": "python",
   "name": "python3"
  },
  "language_info": {
   "codemirror_mode": {
    "name": "ipython",
    "version": 3
   },
   "file_extension": ".py",
   "mimetype": "text/x-python",
   "name": "python",
   "nbconvert_exporter": "python",
   "pygments_lexer": "ipython3",
   "version": "3.9.7"
  }
 },
 "nbformat": 4,
 "nbformat_minor": 5
}
